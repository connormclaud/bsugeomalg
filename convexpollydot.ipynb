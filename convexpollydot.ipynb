{
 "cells": [
  {
   "cell_type": "code",
   "execution_count": 1,
   "metadata": {},
   "outputs": [],
   "source": [
    "import numpy as np\n",
    "import matplotlib.pyplot as plt"
   ]
  },
  {
   "cell_type": "code",
   "execution_count": 2,
   "metadata": {},
   "outputs": [],
   "source": [
    "from scipy.spatial import ConvexHull"
   ]
  },
  {
   "cell_type": "code",
   "execution_count": 3,
   "metadata": {},
   "outputs": [],
   "source": [
    "points = np.random.rand(7, 2) \n",
    "hull = ConvexHull(points)"
   ]
  },
  {
   "cell_type": "code",
   "execution_count": 4,
   "metadata": {
    "scrolled": false
   },
   "outputs": [
    {
     "data": {
      "image/png": "[encoded data removed]",
      "text/plain": [
       "<matplotlib.figure.Figure at 0x7f38d81c4518>"
      ]
     },
     "metadata": {},
     "output_type": "display_data"
    }
   ],
   "source": [
    "fig, ax = plt.subplots()\n",
    "num_polygons = 1\n",
    "num_dots = 1\n",
    "num_sides = 6\n",
    "\n",
    "for simplex in hull.simplices:\n",
    "    plt.plot(points[simplex, 0], points[simplex, 1], 'g-')\n",
    "x = np.random.rand(num_dots)\n",
    "y = np.random.rand(num_dots)\n",
    "\n",
    "ax.scatter(x,y)\n",
    "plt.show()\n"
   ]
  },
  {
   "cell_type": "code",
   "execution_count": 5,
   "metadata": {},
   "outputs": [
    {
     "name": "stdout",
     "output_type": "stream",
     "text": [
      "[(0.3039430222198144, 0.00675324361578844), (0.7442024679933443, 0.05385957283656062), (0.8774112013406743, 0.7380435390275698), (0.856842995050957, 0.7336811178162047), (0.392111796502428, 0.5185256151275797)]\n"
     ]
    }
   ],
   "source": [
    "print([tuple(points[i]) for i in hull.vertices])"
   ]
  },
  {
   "cell_type": "code",
   "execution_count": 6,
   "metadata": {},
   "outputs": [],
   "source": [
    "%run helper.ipynb\n",
    "    "
   ]
  },
  {
   "cell_type": "code",
   "execution_count": 8,
   "metadata": {},
   "outputs": [],
   "source": [
    "def is_contain(point, vertices):\n",
    "    z = vertices[0]\n",
    "    start = 1\n",
    "    end = len(vertices) - 1\n",
    "    \n",
    "    while end - start > 1:\n",
    "        sep = start + end // 2         \n",
    "        if where_is_dot(point, vertices[start], vertices[sep]) < 0:\n",
    "            end = sep\n",
    "        else:\n",
    "            start = sep\n",
    "    return not is_intersect(z, point, vertices[start], vertices[end])"
   ]
  },
  {
   "cell_type": "code",
   "execution_count": 9,
   "metadata": {},
   "outputs": [
    {
     "data": {
      "text/plain": [
       "True"
      ]
     },
     "execution_count": 9,
     "metadata": {},
     "output_type": "execute_result"
    }
   ],
   "source": [
    "is_contain((*x, *y), [tuple(points[i]) for i in hull.vertices])"
   ]
  },
  {
   "cell_type": "code",
   "execution_count": 10,
   "metadata": {},
   "outputs": [],
   "source": [
    "def is_contain_experimental(point, vertices):\n",
    "    iterator = zip(vertices, vertices[1:] + vertices[:1])\n",
    "    for A, B in iterator:\n",
    "        if where_is_dot(point, A, B) < 0:\n",
    "            return 'Point is external'\n",
    "    else:\n",
    "        return 'Point is internal'"
   ]
  },
  {
   "cell_type": "code",
   "execution_count": 11,
   "metadata": {},
   "outputs": [
    {
     "data": {
      "text/plain": [
       "'Point is internal'"
      ]
     },
     "execution_count": 11,
     "metadata": {},
     "output_type": "execute_result"
    }
   ],
   "source": [
    "is_contain_experimental((*x, *y), [tuple(points[i]) for i in hull.vertices])"
   ]
  },
  {
   "cell_type": "code",
   "execution_count": null,
   "metadata": {},
   "outputs": [],
   "source": []
  }
 ],
 "metadata": {
  "kernelspec": {
   "display_name": "Python 3",
   "language": "python",
   "name": "python3"
  },
  "language_info": {
   "codemirror_mode": {
    "name": "ipython",
    "version": 3
   },
   "file_extension": ".py",
   "mimetype": "text/x-python",
   "name": "python",
   "nbconvert_exporter": "python",
   "pygments_lexer": "ipython3",
   "version": "3.6.3"
  }
 },
 "nbformat": 4,
 "nbformat_minor": 2
}
