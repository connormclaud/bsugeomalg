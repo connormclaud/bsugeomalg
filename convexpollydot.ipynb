{
 "cells": [
  {
   "cell_type": "code",
   "execution_count": null,
   "metadata": {},
   "outputs": [],
   "source": [
    "import numpy as np\n",
    "import matplotlib.pyplot as plt"
   ]
  },
  {
   "cell_type": "code",
   "execution_count": null,
   "metadata": {},
   "outputs": [],
   "source": [
    "from scipy.spatial import ConvexHull"
   ]
  },
  {
   "cell_type": "code",
   "execution_count": null,
   "metadata": {},
   "outputs": [],
   "source": [
    "points = np.random.rand(7, 2) \n",
    "hull = ConvexHull(points)"
   ]
  },
  {
   "cell_type": "code",
   "execution_count": 52,
   "metadata": {
    "scrolled": false
   },
   "outputs": [
    {
     "data": {
      "image/png": "[encoded data removed]",
      "text/plain": [
       "<matplotlib.figure.Figure at 0x7f3f5ef4c080>"
      ]
     },
     "metadata": {},
     "output_type": "display_data"
    }
   ],
   "source": [
    "fig, ax = plt.subplots()\n",
    "num_polygons = 1\n",
    "num_dots = 1\n",
    "num_sides = 6\n",
    "\n",
    "for simplex in hull.simplices:\n",
    "    plt.plot(points[simplex, 0], points[simplex, 1], 'g-')\n",
    "x = np.random.rand(num_dots)\n",
    "y = np.random.rand(num_dots)\n",
    "\n",
    "ax.scatter(x,y)\n",
    "plt.show()\n"
   ]
  },
  {
   "cell_type": "code",
   "execution_count": 38,
   "metadata": {},
   "outputs": [
    {
     "name": "stdout",
     "output_type": "stream",
     "text": [
      "[(0.22127927823691118, 0.8513552611104092), (0.23698199275360265, 0.2713375465161332), (0.7072393758689615, 0.3678085000854898), (0.7577854558141611, 0.9178938944654952), (0.2579150237472979, 0.9562048994103448)]\n"
     ]
    }
   ],
   "source": [
    "print([tuple(points[i]) for i in hull.vertices])"
   ]
  },
  {
   "cell_type": "code",
   "execution_count": null,
   "metadata": {},
   "outputs": [],
   "source": [
    "def where_is_dot(dot, A, B):\n",
    "    a = B[0] - A[0]\n",
    "    b = B[1] - A[1]\n",
    "    c = dot[0] - A[0]\n",
    "    d = dot[1] - A[1]\n",
    "    return a * d - c * b\n",
    "    "
   ]
  },
  {
   "cell_type": "code",
   "execution_count": null,
   "metadata": {},
   "outputs": [],
   "source": [
    "def is_intersect(A, B, C, D):\n",
    "    d1 = where_is_dot(A, C, D)\n",
    "    d2 = where_is_dot(B, C, D)\n",
    "    d3 = where_is_dot(C, A, B)\n",
    "    d4 = where_is_dot(D, A, B)\n",
    "    return d1 * d2 < 0 and d3 * d4 < 0"
   ]
  },
  {
   "cell_type": "code",
   "execution_count": 56,
   "metadata": {},
   "outputs": [],
   "source": [
    "def is_contain(point, vertices):\n",
    "    z = vertices[0]\n",
    "    start = 1\n",
    "    end = len(vertices) - 1\n",
    "    \n",
    "    while end - start > 1:\n",
    "        sep = start + end // 2         \n",
    "        if where_is_dot(point, vertices[start], vertices[sep]) < 0:\n",
    "            end = sep\n",
    "        else:\n",
    "            start = sep\n",
    "    return not is_intersect(z, point, vertices[start], vertices[end])"
   ]
  },
  {
   "cell_type": "code",
   "execution_count": 57,
   "metadata": {},
   "outputs": [
    {
     "data": {
      "text/plain": [
       "False"
      ]
     },
     "execution_count": 57,
     "metadata": {},
     "output_type": "execute_result"
    }
   ],
   "source": [
    "is_contain((*x, *y), [tuple(points[i]) for i in hull.vertices])"
   ]
  },
  {
   "cell_type": "code",
   "execution_count": 53,
   "metadata": {},
   "outputs": [],
   "source": [
    "def is_contain_experimental(point, vertices):\n",
    "    iterator = zip(vertices, vertices[1:] + vertices[:1])\n",
    "    for A, B in iterator:\n",
    "        if where_is_dot(point, A, B) < 0:\n",
    "            return 'Point is external'\n",
    "    else:\n",
    "        return 'Point is internal'"
   ]
  },
  {
   "cell_type": "code",
   "execution_count": 54,
   "metadata": {},
   "outputs": [
    {
     "data": {
      "text/plain": [
       "'Point is external'"
      ]
     },
     "execution_count": 54,
     "metadata": {},
     "output_type": "execute_result"
    }
   ],
   "source": [
    "is_contain_experimental((*x, *y), [tuple(points[i]) for i in hull.vertices])"
   ]
  },
  {
   "cell_type": "code",
   "execution_count": null,
   "metadata": {},
   "outputs": [],
   "source": []
  }
 ],
 "metadata": {
  "kernelspec": {
   "display_name": "Python 3",
   "language": "python",
   "name": "python3"
  },
  "language_info": {
   "codemirror_mode": {
    "name": "ipython",
    "version": 3
   },
   "file_extension": ".py",
   "mimetype": "text/x-python",
   "name": "python",
   "nbconvert_exporter": "python",
   "pygments_lexer": "ipython3",
   "version": "3.6.3"
  }
 },
 "nbformat": 4,
 "nbformat_minor": 2
}
