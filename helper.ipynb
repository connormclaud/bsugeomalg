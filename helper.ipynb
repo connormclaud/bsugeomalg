{
 "cells": [
  {
   "cell_type": "code",
   "execution_count": 1,
   "metadata": {},
   "outputs": [],
   "source": [
    "def where_is_dot(dot, A, B):\n",
    "    a = B[0] - A[0]\n",
    "    b = B[1] - A[1]\n",
    "    c = dot[0] - A[0]\n",
    "    d = dot[1] - A[1]\n",
    "    return a * d - c * b"
   ]
  },
  {
   "cell_type": "code",
   "execution_count": null,
   "metadata": {},
   "outputs": [],
   "source": [
    "def is_intersect(A, B, C, D):\n",
    "    d1 = where_is_dot(A, C, D)\n",
    "    d2 = where_is_dot(B, C, D)\n",
    "    d3 = where_is_dot(C, A, B)\n",
    "    d4 = where_is_dot(D, A, B)\n",
    "    return d1 * d2 < 0 and d3 * d4 < 0"
   ]
  }
 ],
 "metadata": {
  "kernelspec": {
   "display_name": "Python 3",
   "language": "python",
   "name": "python3"
  },
  "language_info": {
   "codemirror_mode": {
    "name": "ipython",
    "version": 3
   },
   "file_extension": ".py",
   "mimetype": "text/x-python",
   "name": "python",
   "nbconvert_exporter": "python",
   "pygments_lexer": "ipython3",
   "version": "3.6.3"
  }
 },
 "nbformat": 4,
 "nbformat_minor": 2
}
