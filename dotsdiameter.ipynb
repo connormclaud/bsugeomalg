{
 "cells": [
  {
   "cell_type": "code",
   "execution_count": 84,
   "metadata": {
    "collapsed": true
   },
   "outputs": [],
   "source": [
    "%matplotlib inline\n",
    "import numpy as np\n",
    "import matplotlib.pyplot as plt\n"
   ]
  },
  {
   "cell_type": "code",
   "execution_count": 85,
   "metadata": {
    "collapsed": true
   },
   "outputs": [],
   "source": [
    "from scipy.spatial import ConvexHull"
   ]
  },
  {
   "cell_type": "code",
   "execution_count": 86,
   "metadata": {
    "collapsed": true
   },
   "outputs": [],
   "source": [
    "points = np.random.rand(60, 2)   # 30 random points in 2-D\n",
    "hull = ConvexHull(points)"
   ]
  },
  {
   "cell_type": "code",
   "execution_count": 87,
   "metadata": {
    "collapsed": true
   },
   "outputs": [],
   "source": [
    "%run helper.ipynb"
   ]
  },
  {
   "cell_type": "code",
   "execution_count": 88,
   "metadata": {
    "collapsed": true
   },
   "outputs": [],
   "source": [
    "indecies = hull.vertices.tolist()"
   ]
  },
  {
   "cell_type": "code",
   "execution_count": 89,
   "metadata": {
    "collapsed": true
   },
   "outputs": [],
   "source": [
    "hull_verticies = [tuple(points[i]) for i in indecies]"
   ]
  },
  {
   "cell_type": "markdown",
   "metadata": {},
   "source": [
    "Algorithm\n",
    "\n",
    "1. Pick vertex (first)\n",
    "1. Pick an edge before (last, first)\n",
    "1. Find the farthest vertex (name it start)\n",
    "1. Pick next edge after (first, second)\n",
    "1. from start find farthest vertex (name it end)\n",
    "1. from start till end pick longest diameter\n",
    "1. pick next vertex. start = end\n",
    "1. go to 5\n",
    "\n"
   ]
  },
  {
   "cell_type": "code",
   "execution_count": 90,
   "metadata": {
    "collapsed": false
   },
   "outputs": [],
   "source": [
    "def distance(A, B):\n",
    "    return (B[0] - A[0]) ** 2 + (B[1] - A[1]) ** 2"
   ]
  },
  {
   "cell_type": "code",
   "execution_count": 91,
   "metadata": {
    "collapsed": false
   },
   "outputs": [],
   "source": [
    "def find_longest_diameter(vertices, point_start, range_start, range_end):\n",
    "    A = vertices[point_start]\n",
    "    diameter = 0\n",
    "    point_end = point_start\n",
    "    for i in range(range_start, range_end + 1):\n",
    "        B = vertices[i]\n",
    "        current_distance = distance(A, B)\n",
    "        if current_distance > diameter:\n",
    "            diameter = current_distance\n",
    "            point_end = i\n",
    "    return point_end, diameter"
   ]
  },
  {
   "cell_type": "code",
   "execution_count": 92,
   "metadata": {
    "collapsed": true
   },
   "outputs": [],
   "source": [
    "def find_farthest_vertext(verticies, edgeA, edgeB, start_from, det):\n",
    "    start = start_from\n",
    "    for i in range(start_from, len(verticies)-1):        \n",
    "        newd = where_is_dot(verticies[i], edgeA, edgeB)\n",
    "        if newd > det:\n",
    "            det = newd\n",
    "            start = i\n",
    "        else:\n",
    "            break\n",
    "    return start, det"
   ]
  },
  {
   "cell_type": "code",
   "execution_count": 93,
   "metadata": {
    "collapsed": false
   },
   "outputs": [],
   "source": [
    "def find_diameter(verticies):\n",
    "    fix_index = 0\n",
    "    edgeA, edgeB = verticies[-1], verticies[fix_index]\n",
    "    start, d = find_farthest_vertext(verticies, edgeA, edgeB, 1, 0)\n",
    "    end = start\n",
    "    diameter_start = 0\n",
    "    diameter_end = 0\n",
    "    diameter_value = 0\n",
    "    while fix_index < len(verticies) - 1:\n",
    "        start=end\n",
    "\n",
    "        endd = where_is_dot(verticies[start], edgeA, edgeB)\n",
    "        end, endd = find_farthest_vertext(verticies, edgeA, edgeB, start, endd)\n",
    "        current_end, current_diameter = find_longest_diameter(verticies, fix_index, start, end)\n",
    "        if current_diameter > diameter_value:\n",
    "            diameter_end = current_end\n",
    "            diameter_start = fix_index\n",
    "            diameter_value = current_diameter\n",
    "        fix_index += 1\n",
    "        edgeA = edgeB    \n",
    "        edgeB = verticies[fix_index]\n",
    "\n",
    "    return (verticies[diameter_start], verticies[diameter_end])"
   ]
  },
  {
   "cell_type": "code",
   "execution_count": 94,
   "metadata": {
    "collapsed": false
   },
   "outputs": [],
   "source": [
    "vs, ve = find_diameter(hull_verticies)"
   ]
  },
  {
   "cell_type": "code",
   "execution_count": 95,
   "metadata": {
    "collapsed": false
   },
   "outputs": [
    {
     "data": {
      "text/plain": [
       "[<matplotlib.lines.Line2D at 0x6bda710>]"
      ]
     },
     "execution_count": 95,
     "metadata": {},
     "output_type": "execute_result"
    },
    {
     "data": {
      "image/png": "[encoded data removed]",
      "text/plain": [
       "<matplotlib.figure.Figure at 0x6b0af70>"
      ]
     },
     "metadata": {},
     "output_type": "display_data"
    }
   ],
   "source": [
    "plt.plot(points[:,0], points[:,1], 'o')\n",
    "for simplex in hull.simplices:\n",
    "    plt.plot(points[simplex, 0], points[simplex, 1], 'g')\n",
    "plt.plot((vs[0], ve[0]), (vs[1], ve[1]), 'r')"
   ]
  },
  {
   "cell_type": "code",
   "execution_count": 83,
   "metadata": {
    "collapsed": true
   },
   "outputs": [],
   "source": [
    "plt.show()"
   ]
  }
 ],
 "metadata": {
  "kernelspec": {
   "display_name": "Python [Root]",
   "language": "python",
   "name": "Python [Root]"
  },
  "language_info": {
   "codemirror_mode": {
    "name": "ipython",
    "version": 3
   },
   "file_extension": ".py",
   "mimetype": "text/x-python",
   "name": "python",
   "nbconvert_exporter": "python",
   "pygments_lexer": "ipython3",
   "version": "3.5.2"
  }
 },
 "nbformat": 4,
 "nbformat_minor": 2
}
